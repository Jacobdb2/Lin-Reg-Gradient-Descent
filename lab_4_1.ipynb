{
  "nbformat": 4,
  "nbformat_minor": 0,
  "metadata": {
    "colab": {
      "name": "lab_4_1.ipynb",
      "provenance": [],
      "collapsed_sections": [],
      "toc_visible": true
    },
    "kernelspec": {
      "display_name": "Python 3",
      "language": "python",
      "name": "python3"
    },
    "language_info": {
      "codemirror_mode": {
        "name": "ipython",
        "version": 3
      },
      "file_extension": ".py",
      "mimetype": "text/x-python",
      "name": "python",
      "nbconvert_exporter": "python",
      "pygments_lexer": "ipython3",
      "version": "3.7.4"
    }
  },
  "cells": [
    {
      "cell_type": "markdown",
      "metadata": {
        "colab_type": "text",
        "id": "OTpnyUEJrAjE"
      },
      "source": [
        "# APS1070\n",
        "#### Linear Regression - Project 4"
      ]
    },
    {
      "cell_type": "markdown",
      "metadata": {
        "colab_type": "text",
        "id": "fUdJ6xw3rJIG"
      },
      "source": [
        "Please fill out the following:\n",
        "\n",
        "\n",
        "*   Your **name**: Jacob Bulir\n",
        "*   Your **student number**: 1002260698\n",
        "\n"
      ]
    },
    {
      "cell_type": "markdown",
      "metadata": {
        "colab_type": "text",
        "id": "oLFrnQo9wA4H"
      },
      "source": [
        "## How to use this Notebook"
      ]
    },
    {
      "cell_type": "markdown",
      "metadata": {
        "colab_type": "text",
        "id": "Ryuq8mw8wA4J"
      },
      "source": [
        "1. Run the cells to get a bird's eye view of whats going on.\n",
        "2. Interact with the code to better understand how it works - add cells, plot values, change parameters, etc.\n",
        "3. (Optional) Replicate Linear Regression code on a blank notebook, without viewing this code. [This is called retrieval practice.](https://www.learningscientists.org/blog/2016/6/23-1)\n",
        "4. Complete exercises."
      ]
    },
    {
      "cell_type": "markdown",
      "metadata": {
        "colab_type": "text",
        "id": "Jn-UWaxnwA4K"
      },
      "source": [
        "## Linear Regression - Introduction"
      ]
    },
    {
      "cell_type": "markdown",
      "metadata": {
        "colab_type": "text",
        "id": "kS-L6yG_wA4L"
      },
      "source": [
        "### Linear Regression"
      ]
    },
    {
      "cell_type": "markdown",
      "metadata": {
        "id": "2mFMzlbcbcs0",
        "colab_type": "text"
      },
      "source": [
        "In statistics, linear regression is a linear approach to modelling the relationship between a dependent variable and one or more independent variables. Let X be the independent variable and Y be the dependent variable. We will define a linear relationship between these two variables as follows:"
      ]
    },
    {
      "cell_type": "markdown",
      "metadata": {
        "id": "R3JNdY_Cbcs0",
        "colab_type": "text"
      },
      "source": [
        "$y = mX + c$"
      ]
    },
    {
      "cell_type": "markdown",
      "metadata": {
        "id": "6YAZTV1Mbcs1",
        "colab_type": "text"
      },
      "source": [
        "This is the equation for a line that you studied in high school. m is the slope of the line and c is the y intercept. Today we will use this equation to train our model with a given dataset and predict the value of Y for any given value of X. Our challenge today is to determine the value of m and c, such that the line corresponding to those values is the best fitting line or gives the minimum error."
      ]
    },
    {
      "cell_type": "markdown",
      "metadata": {
        "id": "9ENvOgIIbcs1",
        "colab_type": "text"
      },
      "source": [
        "Are we always fitting a line into the data? What if we have more than 1 feature (independant variable)?"
      ]
    },
    {
      "cell_type": "markdown",
      "metadata": {
        "id": "_lhIIg3Pbcs2",
        "colab_type": "text"
      },
      "source": [
        "The vectorized form of above equation is written as $y = Xw$, where y and w are vectors while X is a matrix. \n",
        "\n",
        "Where is the c term? It is included within the X matrix."
      ]
    },
    {
      "cell_type": "markdown",
      "metadata": {
        "id": "qyYxxkfAbcs2",
        "colab_type": "text"
      },
      "source": [
        "**Hypothesis of Linear Regression**"
      ]
    },
    {
      "cell_type": "markdown",
      "metadata": {
        "id": "KUz5wFvUbcs3",
        "colab_type": "text"
      },
      "source": [
        "The linear regression model can be represented by the following equation:"
      ]
    },
    {
      "cell_type": "markdown",
      "metadata": {
        "id": "M6E-PKb_bcs3",
        "colab_type": "text"
      },
      "source": [
        "<img src=\"https://miro.medium.com/max/313/1*A32yDrkQKIU0Z-Nf7JD9Pg.png\">"
      ]
    },
    {
      "cell_type": "markdown",
      "metadata": {
        "id": "q_aOnL22bcs4",
        "colab_type": "text"
      },
      "source": [
        "- Y is the predicted value ($h_\\theta(x)$)\n",
        "- θ₀ is the bias term.\n",
        "- θ₁,…,θₙ are the model parameters\n",
        "- x₁, x₂,…,xₙ are the feature values."
      ]
    },
    {
      "cell_type": "markdown",
      "metadata": {
        "colab_type": "text",
        "id": "bD4i39QVwA4O"
      },
      "source": [
        "### LR - Procedure"
      ]
    },
    {
      "cell_type": "markdown",
      "metadata": {
        "id": "y6AiJnqnbcs5",
        "colab_type": "text"
      },
      "source": [
        "Our Loss function for Linear regression would be sum of squares, which makes the cost function to be:"
      ]
    },
    {
      "cell_type": "markdown",
      "metadata": {
        "id": "RUIa2Og3bcs5",
        "colab_type": "text"
      },
      "source": [
        "<img src=\"https://miro.medium.com/max/300/1*_y5QA1yF4w6LDDRxfTt6GA.jpeg\">"
      ]
    },
    {
      "cell_type": "markdown",
      "metadata": {
        "id": "53bIKpy5bcs6",
        "colab_type": "text"
      },
      "source": [
        "Here yᵢ is the actual value and ȳᵢ is the predicted value. Lets substitute the value of ȳᵢ from $y = mX + c$:"
      ]
    },
    {
      "cell_type": "markdown",
      "metadata": {
        "id": "Vgfn6x2Ubcs6",
        "colab_type": "text"
      },
      "source": [
        "<img src=\"https://miro.medium.com/max/400/1*3cpC7oHy4IbH3o3Jc-ygVw.jpeg\">"
      ]
    },
    {
      "cell_type": "markdown",
      "metadata": {
        "id": "w5GC9wklbcs7",
        "colab_type": "text"
      },
      "source": [
        "Partial Derivative of the above equation with respect to m is shown as $D_m$:"
      ]
    },
    {
      "cell_type": "markdown",
      "metadata": {
        "id": "MXzmtoFzbcs7",
        "colab_type": "text"
      },
      "source": [
        "<img src=\"https://miro.medium.com/max/400/1*FvYfCBrl2gX9K-KxSO1eIw.jpeg\">"
      ]
    },
    {
      "cell_type": "markdown",
      "metadata": {
        "id": "T4bzLgyXbcs7",
        "colab_type": "text"
      },
      "source": [
        "While the Partial Derivative with respect to c is shown as $D_c$:"
      ]
    },
    {
      "cell_type": "markdown",
      "metadata": {
        "id": "8YT6zO2-bcs8",
        "colab_type": "text"
      },
      "source": [
        "<img src=\"https://miro.medium.com/max/300/1*rj09w2TcBxnHPtQ0oq4ehA.jpeg\">"
      ]
    },
    {
      "cell_type": "markdown",
      "metadata": {
        "colab_type": "text",
        "id": "FNAgpf18wA4S"
      },
      "source": [
        "#### Analytical Approach for Linear Regression\n",
        "\n",
        "Can you derive the Analytical Solution for Linear Regression?"
      ]
    },
    {
      "cell_type": "markdown",
      "metadata": {
        "id": "9-vd5YWLbcs-",
        "colab_type": "text"
      },
      "source": [
        "We arrive at the analytical solution when we turn the partial derivatives with respect to the parameters to zero. Why?\n",
        "\n",
        "This is because at the point where cost function is at the minimum with respect to the parameters (m and c), the derivative of cost function with respect to the parameters would be zero."
      ]
    },
    {
      "cell_type": "markdown",
      "metadata": {
        "id": "kJBZTGZHbcs-",
        "colab_type": "text"
      },
      "source": [
        "$D_m=0$ and $D_c=0$"
      ]
    },
    {
      "cell_type": "markdown",
      "metadata": {
        "id": "o_qnAm8tbcs_",
        "colab_type": "text"
      },
      "source": [
        "The solution for the general case comes out to be:"
      ]
    },
    {
      "cell_type": "markdown",
      "metadata": {
        "id": "91CsuqsUbcs_",
        "colab_type": "text"
      },
      "source": [
        "<img src=\"https://sebastianraschka.com/images/faq/closed-form-vs-gd/closed-form.png\">"
      ]
    },
    {
      "cell_type": "markdown",
      "metadata": {
        "id": "nuHJAOmvbctA",
        "colab_type": "text"
      },
      "source": [
        "With $L_2$ Regularization. Cost:"
      ]
    },
    {
      "cell_type": "markdown",
      "metadata": {
        "id": "eCDCGqdbbctB",
        "colab_type": "text"
      },
      "source": [
        "$J(\\theta) = \\frac{1}{2m}[\\sum_{i=1}^m(h_\\theta (x^{(i)}) - y^{(i)})^2 + \\lambda\\sum_{j=1}^n\\theta^2_j]$"
      ]
    },
    {
      "cell_type": "markdown",
      "metadata": {
        "id": "w484FOiDbctC",
        "colab_type": "text"
      },
      "source": [
        "$w = (X^TX + \\lambda I)^{-1}X^Ty$"
      ]
    },
    {
      "cell_type": "markdown",
      "metadata": {
        "colab_type": "text",
        "heading_collapsed": true,
        "id": "iQyQ3hA6bctC"
      },
      "source": [
        "#### Gradient Descent Solution"
      ]
    },
    {
      "cell_type": "markdown",
      "metadata": {
        "hidden": true,
        "id": "4nPHi1eSbctC",
        "colab_type": "text"
      },
      "source": [
        "Gradient descent uses the equations for gradient derived above to find the direction in which we tinker the values of our parameters m and c. "
      ]
    },
    {
      "cell_type": "markdown",
      "metadata": {
        "hidden": true,
        "id": "y8RY7oFgbctD",
        "colab_type": "text"
      },
      "source": [
        "<img src=\"https://miro.medium.com/max/300/1*JDcHqFK8jLcgQu1cj2XuVQ.jpeg\">"
      ]
    },
    {
      "cell_type": "markdown",
      "metadata": {
        "hidden": true,
        "id": "TmX3-0DYbctD",
        "colab_type": "text"
      },
      "source": [
        "Here the term $L$ is defined as the learning rate."
      ]
    },
    {
      "cell_type": "markdown",
      "metadata": {
        "hidden": true,
        "id": "HW9l1_RBbctE",
        "colab_type": "text"
      },
      "source": [
        "<img src=\"https://miro.medium.com/max/864/1*CjTBNFUEI_IokEOXJ00zKw.gif\">"
      ]
    },
    {
      "cell_type": "markdown",
      "metadata": {
        "colab_type": "text",
        "id": "K0JkLAQWbctE"
      },
      "source": [
        "#### Any other solutions methods?"
      ]
    },
    {
      "cell_type": "markdown",
      "metadata": {
        "id": "9A_OEn8VbctE",
        "colab_type": "text"
      },
      "source": [
        "Some other solution methods are QR Decomposition, Singular-Value Decomposition.\n",
        "\n",
        "- Do these methods give exact solutions?\n",
        "- Do these methods scale well with large datasets?"
      ]
    },
    {
      "cell_type": "markdown",
      "metadata": {
        "colab_type": "text",
        "id": "sxvjbQZibctF"
      },
      "source": [
        "## Let's Start"
      ]
    },
    {
      "cell_type": "markdown",
      "metadata": {
        "id": "LEzWkTisbctF",
        "colab_type": "text"
      },
      "source": [
        "Single Feature, 5 data points."
      ]
    },
    {
      "cell_type": "markdown",
      "metadata": {
        "id": "VPNKfSh1bctG",
        "colab_type": "text"
      },
      "source": [
        "### Analytical Approach in Code\n",
        "\n",
        "Let's get our hands dirty."
      ]
    },
    {
      "cell_type": "code",
      "metadata": {
        "id": "_pUP_nOYbctG",
        "colab_type": "code",
        "colab": {}
      },
      "source": [
        "import numpy as np\n",
        "import pandas as pd\n",
        "import matplotlib.pyplot as plt\n",
        "import seaborn as sns\n",
        "from sklearn.linear_model import LinearRegression\n",
        "from sklearn.linear_model import Ridge\n",
        "from sklearn.preprocessing import PolynomialFeatures\n",
        "from sklearn.metrics import mean_squared_error"
      ],
      "execution_count": 0,
      "outputs": []
    },
    {
      "cell_type": "code",
      "metadata": {
        "id": "g2s-ZTXtbctI",
        "colab_type": "code",
        "colab": {}
      },
      "source": [
        "n = 5 # number of points\n",
        "m = 2 # slope of line\n",
        "c = 4 # y intercept of line\n",
        "r = 2 # range of data on x-axis\n",
        "\n",
        "np.random.seed(2)\n",
        "x = r * np.random.rand(n)\n",
        "x.sort()\n",
        "yPerf = m*x + c # perfect world: no noise\n",
        "y = m*x + c + np.random.randn(n) # imperfect world: we get noisy data"
      ],
      "execution_count": 0,
      "outputs": []
    },
    {
      "cell_type": "markdown",
      "metadata": {
        "id": "RlW5IUn5bctJ",
        "colab_type": "text"
      },
      "source": [
        "Spoiler Alert: We are in an Imperfect World."
      ]
    },
    {
      "cell_type": "code",
      "metadata": {
        "id": "lNe4w9CdbctJ",
        "colab_type": "code",
        "colab": {}
      },
      "source": [
        "def rmse(yPred, y):\n",
        "    return np.sqrt(mean_squared_error(yPred, y))"
      ],
      "execution_count": 0,
      "outputs": []
    },
    {
      "cell_type": "code",
      "metadata": {
        "id": "YmkB-_lpbctL",
        "colab_type": "code",
        "outputId": "c1e93631-4499-4277-a153-5e58b33aaff9",
        "colab": {
          "base_uri": "https://localhost:8080/",
          "height": 265
        }
      },
      "source": [
        "plt.plot(x, y, 'o', label='Data')\n",
        "plt.plot(x, yPerf, 'o-', label='Underlying Distribution')\n",
        "\n",
        "plt.legend()\n",
        "plt.show()"
      ],
      "execution_count": 0,
      "outputs": [
        {
          "output_type": "display_data",
          "data": {
            "image/png": "[encoded data removed]",
            "text/plain": [
              "<Figure size 432x288 with 1 Axes>"
            ]
          },
          "metadata": {
            "tags": []
          }
        }
      ]
    },
    {
      "cell_type": "code",
      "metadata": {
        "id": "xL7-QF9TbctN",
        "colab_type": "code",
        "colab": {}
      },
      "source": [
        "x = np.vstack((np.ones(np.shape(x)), x)).T\n",
        "y = y.reshape(-1, 1)"
      ],
      "execution_count": 0,
      "outputs": []
    },
    {
      "cell_type": "code",
      "metadata": {
        "id": "70gnrF0XbctO",
        "colab_type": "code",
        "colab": {}
      },
      "source": [
        "# analytical solution\n",
        "w = np.dot(np.linalg.inv(np.dot(x.T, x)), np.dot(x.T, y))\n",
        "\n",
        "# prediction\n",
        "yPred = np.dot(x, w)"
      ],
      "execution_count": 0,
      "outputs": []
    },
    {
      "cell_type": "code",
      "metadata": {
        "id": "msWFfyD-bctQ",
        "colab_type": "code",
        "outputId": "04612d25-d0c8-429f-da66-88cd11a28aba",
        "colab": {
          "base_uri": "https://localhost:8080/",
          "height": 34
        }
      },
      "source": [
        "w[0], w[1]"
      ],
      "execution_count": 0,
      "outputs": [
        {
          "output_type": "execute_result",
          "data": {
            "text/plain": [
              "(array([2.67741212]), array([3.35314632]))"
            ]
          },
          "metadata": {
            "tags": []
          },
          "execution_count": 7
        }
      ]
    },
    {
      "cell_type": "markdown",
      "metadata": {
        "id": "vlvll92zbctS",
        "colab_type": "text"
      },
      "source": [
        "- How similar are these to the values we had set initially?\n",
        "- Will they be same as those set initially if there was no noise?"
      ]
    },
    {
      "cell_type": "code",
      "metadata": {
        "id": "NyxfDFgfbctS",
        "colab_type": "code",
        "outputId": "3a5e5827-c0b9-45e2-b1c8-1ab29136a421",
        "colab": {
          "base_uri": "https://localhost:8080/",
          "height": 265
        }
      },
      "source": [
        "plt.plot(x[:, 1], y, 'o', label='Data')\n",
        "plt.plot(x[:, 1], yPerf, 'o-', label='Underlying Distribution')\n",
        "plt.plot(x[:, 1], yPred, 'o-', label='Predicted')\n",
        "\n",
        "plt.legend()\n",
        "plt.show()"
      ],
      "execution_count": 0,
      "outputs": [
        {
          "output_type": "display_data",
          "data": {
            "image/png": "[encoded data removed]",
            "text/plain": [
              "<Figure size 432x288 with 1 Axes>"
            ]
          },
          "metadata": {
            "tags": []
          }
        }
      ]
    },
    {
      "cell_type": "code",
      "metadata": {
        "id": "2l5yQVtFbctU",
        "colab_type": "code",
        "outputId": "84fedf50-c2de-4279-a7e0-8f75db39b6fb",
        "colab": {
          "base_uri": "https://localhost:8080/",
          "height": 34
        }
      },
      "source": [
        "print('RMSE: ', rmse(yPred, y))"
      ],
      "execution_count": 0,
      "outputs": [
        {
          "output_type": "stream",
          "text": [
            "RMSE:  0.8321853483360432\n"
          ],
          "name": "stdout"
        }
      ]
    },
    {
      "cell_type": "markdown",
      "metadata": {
        "id": "o3ZG5e0YbctW",
        "colab_type": "text"
      },
      "source": [
        "### Complex Dependant Variable\n",
        "\n",
        "It's complicated."
      ]
    },
    {
      "cell_type": "code",
      "metadata": {
        "id": "T9eFKueSbctX",
        "colab_type": "code",
        "colab": {}
      },
      "source": [
        "n = 20 # number of points\n",
        "m = 3  # slope of line\n",
        "c = 10 # y intercept of line\n",
        "r = 2  # range of data on x-axis\n",
        "\n",
        "np.random.seed(10)\n",
        "X = xD = r * np.random.randn(n) # points also stored in xD (xData). will be useful later.\n",
        "X.sort()\n",
        "yPerf = X - 2 * (X ** 2) + 0.5 * (X ** 3)\n",
        "np.random.seed(10)\n",
        "y = X - 2 * (X ** 2) + 0.5 * (X ** 3) + np.random.normal(0, 5, n) # imperfect world: we get noisy data"
      ],
      "execution_count": 0,
      "outputs": []
    },
    {
      "cell_type": "code",
      "metadata": {
        "id": "OFpKR94YbctY",
        "colab_type": "code",
        "outputId": "4c49798d-7340-4293-c786-ad66b0c04867",
        "colab": {
          "base_uri": "https://localhost:8080/",
          "height": 265
        }
      },
      "source": [
        "plt.plot(X, y, 'o', label='Data')\n",
        "plt.plot(X, yPerf, 'o-', label='Underlying Distribution')\n",
        "\n",
        "plt.legend()\n",
        "plt.show()"
      ],
      "execution_count": 0,
      "outputs": [
        {
          "output_type": "display_data",
          "data": {
            "image/png": "[encoded data removed]",
            "text/plain": [
              "<Figure size 432x288 with 1 Axes>"
            ]
          },
          "metadata": {
            "tags": []
          }
        }
      ]
    },
    {
      "cell_type": "code",
      "metadata": {
        "id": "ka-pV7fGbctZ",
        "colab_type": "code",
        "colab": {}
      },
      "source": [
        "X = np.vstack((np.ones(np.shape(X)), X)).T\n",
        "y = y.reshape(-1, 1)"
      ],
      "execution_count": 0,
      "outputs": []
    },
    {
      "cell_type": "code",
      "metadata": {
        "id": "GZy6EK4Mbctb",
        "colab_type": "code",
        "outputId": "c72f3b9d-3e8d-4c03-c5c3-e6a8518bad29",
        "colab": {
          "base_uri": "https://localhost:8080/",
          "height": 51
        }
      },
      "source": [
        "# analytical solution\n",
        "w = np.dot(np.linalg.inv(np.dot(X.T, X)), np.dot(X.T, y))\n",
        "\n",
        "# prediction\n",
        "yPredLinear = yPred = np.dot(X, w)\n",
        "\n",
        "w"
      ],
      "execution_count": 0,
      "outputs": [
        {
          "output_type": "execute_result",
          "data": {
            "text/plain": [
              "array([[-5.45917353],\n",
              "       [ 3.82202654]])"
            ]
          },
          "metadata": {
            "tags": []
          },
          "execution_count": 13
        }
      ]
    },
    {
      "cell_type": "code",
      "metadata": {
        "id": "NS_2S74qbctc",
        "colab_type": "code",
        "outputId": "3f5669c7-8fca-4429-e8f0-ecc4b9416e62",
        "colab": {
          "base_uri": "https://localhost:8080/",
          "height": 265
        }
      },
      "source": [
        "plt.plot(xD, y, 'o', label='Data')\n",
        "plt.plot(xD, yPerf, 'o-', label='Underlying Distribution')\n",
        "plt.plot(xD, yPred, 'o-', label='Predicted')\n",
        "\n",
        "plt.legend()\n",
        "plt.show()"
      ],
      "execution_count": 0,
      "outputs": [
        {
          "output_type": "display_data",
          "data": {
            "image/png": "[encoded data removed]",
            "text/plain": [
              "<Figure size 432x288 with 1 Axes>"
            ]
          },
          "metadata": {
            "tags": []
          }
        }
      ]
    },
    {
      "cell_type": "code",
      "metadata": {
        "id": "NkKlZkKkbctd",
        "colab_type": "code",
        "outputId": "24e9eaf4-b528-43d7-80c6-6e31c7e46819",
        "colab": {
          "base_uri": "https://localhost:8080/",
          "height": 34
        }
      },
      "source": [
        "print('RMSE: ', rmse(yPred, y))"
      ],
      "execution_count": 0,
      "outputs": [
        {
          "output_type": "stream",
          "text": [
            "RMSE:  6.839531223681816\n"
          ],
          "name": "stdout"
        }
      ]
    },
    {
      "cell_type": "markdown",
      "metadata": {
        "id": "S6zNdggSbctf",
        "colab_type": "text"
      },
      "source": [
        "#### What to do next?\n",
        "\n",
        "Can we add more features."
      ]
    },
    {
      "cell_type": "code",
      "metadata": {
        "id": "zIDKcjBKbctf",
        "colab_type": "code",
        "colab": {}
      },
      "source": [
        "X = np.vstack((X.T, xD**2, xD**3)).T"
      ],
      "execution_count": 0,
      "outputs": []
    },
    {
      "cell_type": "code",
      "metadata": {
        "id": "XlhuePv2bcth",
        "colab_type": "code",
        "colab": {}
      },
      "source": [
        "# analytical solution\n",
        "w = np.dot(np.linalg.inv(np.dot(X.T, X)), np.dot(X.T, y))\n",
        "\n",
        "# prediction\n",
        "yPred4Feature = yPred = np.dot(X, w)"
      ],
      "execution_count": 0,
      "outputs": []
    },
    {
      "cell_type": "code",
      "metadata": {
        "id": "jk90FPCXbcti",
        "colab_type": "code",
        "outputId": "26535eff-1eec-4ac0-b773-27ae23dd48c3",
        "colab": {
          "base_uri": "https://localhost:8080/",
          "height": 85
        }
      },
      "source": [
        "w"
      ],
      "execution_count": 0,
      "outputs": [
        {
          "output_type": "execute_result",
          "data": {
            "text/plain": [
              "array([[ 0.04177438],\n",
              "       [ 2.58652514],\n",
              "       [-1.87142105],\n",
              "       [ 0.19655185]])"
            ]
          },
          "metadata": {
            "tags": []
          },
          "execution_count": 18
        }
      ]
    },
    {
      "cell_type": "code",
      "metadata": {
        "id": "As3fF2SMbctj",
        "colab_type": "code",
        "outputId": "a19d75ed-7b4a-4589-9d9d-25fbab391de2",
        "colab": {
          "base_uri": "https://localhost:8080/",
          "height": 265
        }
      },
      "source": [
        "plt.plot(xD, y, 'o', label='Data')\n",
        "plt.plot(xD, yPerf, 'o-', label='Underlying Distribution')\n",
        "plt.plot(xD, yPred, 'o-', label='Predicted')\n",
        "\n",
        "plt.legend()\n",
        "plt.show()"
      ],
      "execution_count": 0,
      "outputs": [
        {
          "output_type": "display_data",
          "data": {
            "image/png": "[encoded data removed]",
            "text/plain": [
              "<Figure size 432x288 with 1 Axes>"
            ]
          },
          "metadata": {
            "tags": []
          }
        }
      ]
    },
    {
      "cell_type": "code",
      "metadata": {
        "id": "q4w21j3Wbctl",
        "colab_type": "code",
        "outputId": "3cb02fdd-ebd9-46f3-ffa7-525cfca52c90",
        "colab": {
          "base_uri": "https://localhost:8080/",
          "height": 34
        }
      },
      "source": [
        "print('RMSE: ', rmse(yPred, y))"
      ],
      "execution_count": 0,
      "outputs": [
        {
          "output_type": "stream",
          "text": [
            "RMSE:  3.929493007090521\n"
          ],
          "name": "stdout"
        }
      ]
    },
    {
      "cell_type": "markdown",
      "metadata": {
        "id": "6UVOla-Obctm",
        "colab_type": "text"
      },
      "source": [
        "But how do we know when to stop, since we would not be knowing when to stop adding features in x."
      ]
    },
    {
      "cell_type": "code",
      "metadata": {
        "id": "a1dphgtbbctm",
        "colab_type": "code",
        "colab": {}
      },
      "source": [
        "X = np.vstack((X.T, xD**4, xD**5, xD**6, xD**7)).T"
      ],
      "execution_count": 0,
      "outputs": []
    },
    {
      "cell_type": "code",
      "metadata": {
        "id": "_9_6iGtVbcto",
        "colab_type": "code",
        "colab": {}
      },
      "source": [
        "# analytical solution\n",
        "w = np.dot(np.linalg.inv(np.dot(X.T, X)), np.dot(X.T, y))\n",
        "\n",
        "# prediction\n",
        "yPred8Feature = yPred = np.dot(X, w)"
      ],
      "execution_count": 0,
      "outputs": []
    },
    {
      "cell_type": "code",
      "metadata": {
        "id": "hz8q4G9Vbctp",
        "colab_type": "code",
        "outputId": "88fc1b43-7eeb-4b80-e640-997036236083",
        "colab": {
          "base_uri": "https://localhost:8080/",
          "height": 153
        }
      },
      "source": [
        "w"
      ],
      "execution_count": 0,
      "outputs": [
        {
          "output_type": "execute_result",
          "data": {
            "text/plain": [
              "array([[-2.64611130e-01],\n",
              "       [ 8.28612458e+00],\n",
              "       [-2.07703327e+00],\n",
              "       [-6.35661778e+00],\n",
              "       [-1.30720676e-02],\n",
              "       [ 1.64293567e+00],\n",
              "       [-2.08380043e-03],\n",
              "       [-1.09229711e-01]])"
            ]
          },
          "metadata": {
            "tags": []
          },
          "execution_count": 23
        }
      ]
    },
    {
      "cell_type": "code",
      "metadata": {
        "id": "9wVphfLKbctq",
        "colab_type": "code",
        "outputId": "35a14572-d9be-4e0a-d3e6-c68331d945ee",
        "colab": {
          "base_uri": "https://localhost:8080/",
          "height": 265
        }
      },
      "source": [
        "plt.plot(xD, y, 'o', label='Data')\n",
        "plt.plot(xD, yPerf, 'o-', label='Underlying Distribution')\n",
        "plt.plot(xD, yPred, 'o-', label='Predicted')\n",
        "\n",
        "plt.legend()\n",
        "plt.show()"
      ],
      "execution_count": 0,
      "outputs": [
        {
          "output_type": "display_data",
          "data": {
            "image/png": "[encoded data removed]",
            "text/plain": [
              "<Figure size 432x288 with 1 Axes>"
            ]
          },
          "metadata": {
            "tags": []
          }
        }
      ]
    },
    {
      "cell_type": "code",
      "metadata": {
        "id": "sB5FgxqCbcts",
        "colab_type": "code",
        "outputId": "9bd59c1b-c115-4af3-f62d-23896a5fe654",
        "colab": {
          "base_uri": "https://localhost:8080/",
          "height": 34
        }
      },
      "source": [
        "print('RMSE: ', rmse(yPred, y))"
      ],
      "execution_count": 0,
      "outputs": [
        {
          "output_type": "stream",
          "text": [
            "RMSE:  3.3097843019929725\n"
          ],
          "name": "stdout"
        }
      ]
    },
    {
      "cell_type": "markdown",
      "metadata": {
        "id": "bjUKcac3bctt",
        "colab_type": "text"
      },
      "source": [
        "Even though RMSE here (with much more higher features) is lower than previous case, we can see this Predicted Line is quite far from the Underlying distribution. This is called **Overfitting**."
      ]
    },
    {
      "cell_type": "markdown",
      "metadata": {
        "id": "mbgmXOxdbctu",
        "colab_type": "text"
      },
      "source": [
        "When does the model overfits: when we have more features or comparitively less data for the model.\n",
        "\n",
        "What exactly is overfitting:\n",
        "It pays more attention to the noise of the data provided, in a sense trying to rotely memorize everything, \n",
        "without generalizing. \n",
        "\n",
        "Since we don't know when to stop adding features, what can be done:\n",
        "- Solution is to work with a model or feature set that can slightly overfit your data, and then use techniques to prevent overfitting from happening.\n",
        "The alternative gives us underfitting which we cannot fix unless you modify the feature set or model.\n",
        "\n",
        "Options we have to prevent overfitting. Well there are many, most widely used ones are\n",
        "- Using a validation set\n",
        "- Regularization: add penalty on weights"
      ]
    },
    {
      "cell_type": "code",
      "metadata": {
        "id": "XZxmLfzjbctu",
        "colab_type": "code",
        "colab": {}
      },
      "source": [
        "λ = 10 # what is lambda: regularization parameter\n",
        "f = 8 # number of features"
      ],
      "execution_count": 0,
      "outputs": []
    },
    {
      "cell_type": "code",
      "metadata": {
        "id": "EWvLnUOTbctw",
        "colab_type": "code",
        "outputId": "8684e86e-853c-4691-8623-b8ff605ee137",
        "colab": {
          "base_uri": "https://localhost:8080/",
          "height": 153
        }
      },
      "source": [
        "# analytical solution\n",
        "w = np.dot(np.linalg.inv(np.dot(X.T, X) + (λ)*np.identity(f)), np.dot(X.T, y))\n",
        "\n",
        "# prediction\n",
        "yPred8FeatRegu = yPred = np.dot(X, w)\n",
        "w"
      ],
      "execution_count": 0,
      "outputs": [
        {
          "output_type": "execute_result",
          "data": {
            "text/plain": [
              "array([[ 0.21326186],\n",
              "       [ 0.40727946],\n",
              "       [-0.46745243],\n",
              "       [-0.31891582],\n",
              "       [-0.51080301],\n",
              "       [ 0.38864889],\n",
              "       [ 0.03613141],\n",
              "       [-0.03367748]])"
            ]
          },
          "metadata": {
            "tags": []
          },
          "execution_count": 27
        }
      ]
    },
    {
      "cell_type": "code",
      "metadata": {
        "id": "CQiyDIi_bctx",
        "colab_type": "code",
        "outputId": "0a14fe1c-dbf9-409d-fae3-d6e55bea2fe6",
        "colab": {
          "base_uri": "https://localhost:8080/",
          "height": 265
        }
      },
      "source": [
        "plt.plot(xD, y, 'o', label='Data')\n",
        "plt.plot(xD, yPerf, 'o-', label='Underlying Distribution')\n",
        "plt.plot(xD, yPred, 'o-', label='Predicted')\n",
        "\n",
        "plt.legend()\n",
        "plt.show()"
      ],
      "execution_count": 0,
      "outputs": [
        {
          "output_type": "display_data",
          "data": {
            "image/png": "[encoded data removed]",
            "text/plain": [
              "<Figure size 432x288 with 1 Axes>"
            ]
          },
          "metadata": {
            "tags": []
          }
        }
      ]
    },
    {
      "cell_type": "markdown",
      "metadata": {
        "id": "gw4mgsnbbct0",
        "colab_type": "text"
      },
      "source": [
        "Can we know from the plot if the value of λ is optimal:\n",
        "\n",
        "Somewhat but not exactly. \n",
        "\n",
        "To get the exact value of lambda you need to split dataset between training and testing. Then cycle over multiple values of lambda. The most optimum is the one which gives the lowest test error. \n",
        "\n",
        "What does low test error represent?"
      ]
    },
    {
      "cell_type": "markdown",
      "metadata": {
        "id": "mcSDizyQbct0",
        "colab_type": "text"
      },
      "source": [
        "All models together:"
      ]
    },
    {
      "cell_type": "code",
      "metadata": {
        "id": "jCYdZCQRbct1",
        "colab_type": "code",
        "outputId": "5ef0dff7-870c-49d8-dfee-059c0fd3002a",
        "colab": {
          "base_uri": "https://localhost:8080/",
          "height": 483
        }
      },
      "source": [
        "plt.figure(figsize=(12, 8))\n",
        "plt.plot(xD, y, 'o', label='Data')\n",
        "plt.plot(xD, yPerf, 'o-', label='Underlying Distribution')\n",
        "plt.plot(xD, yPredLinear, 'o-', label='2 Feature')\n",
        "plt.plot(xD, yPred4Feature, 'o-', label='4 Feature')\n",
        "plt.plot(xD, yPred8Feature, 'o-', label='8 Feature')\n",
        "plt.plot(xD, yPred8FeatRegu, 'o-', label='8 Feature Regularized')\n",
        "\n",
        "plt.legend()\n",
        "plt.show()"
      ],
      "execution_count": 0,
      "outputs": [
        {
          "output_type": "display_data",
          "data": {
            "image/png": "[encoded data removed]",
            "text/plain": [
              "<Figure size 864x576 with 1 Axes>"
            ]
          },
          "metadata": {
            "tags": []
          }
        }
      ]
    },
    {
      "cell_type": "markdown",
      "metadata": {
        "id": "oVKTzp4Hbct2",
        "colab_type": "text"
      },
      "source": [
        "### Further Complex Multivariate Data"
      ]
    },
    {
      "cell_type": "markdown",
      "metadata": {
        "id": "Y62qieYVbct2",
        "colab_type": "text"
      },
      "source": [
        "We will take the Housing dataset which contains information about different houses in Boston. This data was originally a part of UCI Machine Learning Repository and has been removed now. We can also access this data from the scikit-learn library. There are 506 samples and 13 feature variables in this dataset. The objective is to predict the value of prices of the house using the given features."
      ]
    },
    {
      "cell_type": "code",
      "metadata": {
        "id": "wVI7N2nWbct3",
        "colab_type": "code",
        "colab": {}
      },
      "source": [
        "from sklearn.datasets import load_boston\n",
        "dataset = load_boston()"
      ],
      "execution_count": 0,
      "outputs": []
    },
    {
      "cell_type": "code",
      "metadata": {
        "id": "w_DihUt2bct4",
        "colab_type": "code",
        "outputId": "6ab0cea0-9520-41a5-9324-06d42c8aa67e",
        "colab": {
          "base_uri": "https://localhost:8080/",
          "height": 34
        }
      },
      "source": [
        "print(dataset.keys())"
      ],
      "execution_count": 0,
      "outputs": [
        {
          "output_type": "stream",
          "text": [
            "dict_keys(['data', 'target', 'feature_names', 'DESCR', 'filename'])\n"
          ],
          "name": "stdout"
        }
      ]
    },
    {
      "cell_type": "code",
      "metadata": {
        "id": "oIstAmPEbct5",
        "colab_type": "code",
        "outputId": "f4c5e28b-38d3-4ce6-ef42-a37d323357ce",
        "colab": {
          "base_uri": "https://localhost:8080/",
          "height": 904
        }
      },
      "source": [
        "print(dataset.DESCR)"
      ],
      "execution_count": 0,
      "outputs": [
        {
          "output_type": "stream",
          "text": [
            ".. _boston_dataset:\n",
            "\n",
            "Boston house prices dataset\n",
            "---------------------------\n",
            "\n",
            "**Data Set Characteristics:**  \n",
            "\n",
            "    :Number of Instances: 506 \n",
            "\n",
            "    :Number of Attributes: 13 numeric/categorical predictive. Median Value (attribute 14) is usually the target.\n",
            "\n",
            "    :Attribute Information (in order):\n",
            "        - CRIM     per capita crime rate by town\n",
            "        - ZN       proportion of residential land zoned for lots over 25,000 sq.ft.\n",
            "        - INDUS    proportion of non-retail business acres per town\n",
            "        - CHAS     Charles River dummy variable (= 1 if tract bounds river; 0 otherwise)\n",
            "        - NOX      nitric oxides concentration (parts per 10 million)\n",
            "        - RM       average number of rooms per dwelling\n",
            "        - AGE      proportion of owner-occupied units built prior to 1940\n",
            "        - DIS      weighted distances to five Boston employment centres\n",
            "        - RAD      index of accessibility to radial highways\n",
            "        - TAX      full-value property-tax rate per $10,000\n",
            "        - PTRATIO  pupil-teacher ratio by town\n",
            "        - B        1000(Bk - 0.63)^2 where Bk is the proportion of blacks by town\n",
            "        - LSTAT    % lower status of the population\n",
            "        - MEDV     Median value of owner-occupied homes in $1000's\n",
            "\n",
            "    :Missing Attribute Values: None\n",
            "\n",
            "    :Creator: Harrison, D. and Rubinfeld, D.L.\n",
            "\n",
            "This is a copy of UCI ML housing dataset.\n",
            "https://archive.ics.uci.edu/ml/machine-learning-databases/housing/\n",
            "\n",
            "\n",
            "This dataset was taken from the StatLib library which is maintained at Carnegie Mellon University.\n",
            "\n",
            "The Boston house-price data of Harrison, D. and Rubinfeld, D.L. 'Hedonic\n",
            "prices and the demand for clean air', J. Environ. Economics & Management,\n",
            "vol.5, 81-102, 1978.   Used in Belsley, Kuh & Welsch, 'Regression diagnostics\n",
            "...', Wiley, 1980.   N.B. Various transformations are used in the table on\n",
            "pages 244-261 of the latter.\n",
            "\n",
            "The Boston house-price data has been used in many machine learning papers that address regression\n",
            "problems.   \n",
            "     \n",
            ".. topic:: References\n",
            "\n",
            "   - Belsley, Kuh & Welsch, 'Regression diagnostics: Identifying Influential Data and Sources of Collinearity', Wiley, 1980. 244-261.\n",
            "   - Quinlan,R. (1993). Combining Instance-Based and Model-Based Learning. In Proceedings on the Tenth International Conference of Machine Learning, 236-243, University of Massachusetts, Amherst. Morgan Kaufmann.\n",
            "\n"
          ],
          "name": "stdout"
        }
      ]
    },
    {
      "cell_type": "code",
      "metadata": {
        "id": "LkF-i2Gubct6",
        "colab_type": "code",
        "outputId": "bf196fb9-3b07-46a8-a398-e0827ebd6938",
        "colab": {
          "base_uri": "https://localhost:8080/",
          "height": 204
        }
      },
      "source": [
        "df = pd.DataFrame(dataset.data, columns=dataset.feature_names)\n",
        "df.head()"
      ],
      "execution_count": 0,
      "outputs": [
        {
          "output_type": "execute_result",
          "data": {
            "text/html": [
              "<div>\n",
              "<style scoped>\n",
              "    .dataframe tbody tr th:only-of-type {\n",
              "        vertical-align: middle;\n",
              "    }\n",
              "\n",
              "    .dataframe tbody tr th {\n",
              "        vertical-align: top;\n",
              "    }\n",
              "\n",
              "    .dataframe thead th {\n",
              "        text-align: right;\n",
              "    }\n",
              "</style>\n",
              "<table border=\"1\" class=\"dataframe\">\n",
              "  <thead>\n",
              "    <tr style=\"text-align: right;\">\n",
              "      <th></th>\n",
              "      <th>CRIM</th>\n",
              "      <th>ZN</th>\n",
              "      <th>INDUS</th>\n",
              "      <th>CHAS</th>\n",
              "      <th>NOX</th>\n",
              "      <th>RM</th>\n",
              "      <th>AGE</th>\n",
              "      <th>DIS</th>\n",
              "      <th>RAD</th>\n",
              "      <th>TAX</th>\n",
              "      <th>PTRATIO</th>\n",
              "      <th>B</th>\n",
              "      <th>LSTAT</th>\n",
              "    </tr>\n",
              "  </thead>\n",
              "  <tbody>\n",
              "    <tr>\n",
              "      <th>0</th>\n",
              "      <td>0.00632</td>\n",
              "      <td>18.0</td>\n",
              "      <td>2.31</td>\n",
              "      <td>0.0</td>\n",
              "      <td>0.538</td>\n",
              "      <td>6.575</td>\n",
              "      <td>65.2</td>\n",
              "      <td>4.0900</td>\n",
              "      <td>1.0</td>\n",
              "      <td>296.0</td>\n",
              "      <td>15.3</td>\n",
              "      <td>396.90</td>\n",
              "      <td>4.98</td>\n",
              "    </tr>\n",
              "    <tr>\n",
              "      <th>1</th>\n",
              "      <td>0.02731</td>\n",
              "      <td>0.0</td>\n",
              "      <td>7.07</td>\n",
              "      <td>0.0</td>\n",
              "      <td>0.469</td>\n",
              "      <td>6.421</td>\n",
              "      <td>78.9</td>\n",
              "      <td>4.9671</td>\n",
              "      <td>2.0</td>\n",
              "      <td>242.0</td>\n",
              "      <td>17.8</td>\n",
              "      <td>396.90</td>\n",
              "      <td>9.14</td>\n",
              "    </tr>\n",
              "    <tr>\n",
              "      <th>2</th>\n",
              "      <td>0.02729</td>\n",
              "      <td>0.0</td>\n",
              "      <td>7.07</td>\n",
              "      <td>0.0</td>\n",
              "      <td>0.469</td>\n",
              "      <td>7.185</td>\n",
              "      <td>61.1</td>\n",
              "      <td>4.9671</td>\n",
              "      <td>2.0</td>\n",
              "      <td>242.0</td>\n",
              "      <td>17.8</td>\n",
              "      <td>392.83</td>\n",
              "      <td>4.03</td>\n",
              "    </tr>\n",
              "    <tr>\n",
              "      <th>3</th>\n",
              "      <td>0.03237</td>\n",
              "      <td>0.0</td>\n",
              "      <td>2.18</td>\n",
              "      <td>0.0</td>\n",
              "      <td>0.458</td>\n",
              "      <td>6.998</td>\n",
              "      <td>45.8</td>\n",
              "      <td>6.0622</td>\n",
              "      <td>3.0</td>\n",
              "      <td>222.0</td>\n",
              "      <td>18.7</td>\n",
              "      <td>394.63</td>\n",
              "      <td>2.94</td>\n",
              "    </tr>\n",
              "    <tr>\n",
              "      <th>4</th>\n",
              "      <td>0.06905</td>\n",
              "      <td>0.0</td>\n",
              "      <td>2.18</td>\n",
              "      <td>0.0</td>\n",
              "      <td>0.458</td>\n",
              "      <td>7.147</td>\n",
              "      <td>54.2</td>\n",
              "      <td>6.0622</td>\n",
              "      <td>3.0</td>\n",
              "      <td>222.0</td>\n",
              "      <td>18.7</td>\n",
              "      <td>396.90</td>\n",
              "      <td>5.33</td>\n",
              "    </tr>\n",
              "  </tbody>\n",
              "</table>\n",
              "</div>"
            ],
            "text/plain": [
              "      CRIM    ZN  INDUS  CHAS    NOX  ...  RAD    TAX  PTRATIO       B  LSTAT\n",
              "0  0.00632  18.0   2.31   0.0  0.538  ...  1.0  296.0     15.3  396.90   4.98\n",
              "1  0.02731   0.0   7.07   0.0  0.469  ...  2.0  242.0     17.8  396.90   9.14\n",
              "2  0.02729   0.0   7.07   0.0  0.469  ...  2.0  242.0     17.8  392.83   4.03\n",
              "3  0.03237   0.0   2.18   0.0  0.458  ...  3.0  222.0     18.7  394.63   2.94\n",
              "4  0.06905   0.0   2.18   0.0  0.458  ...  3.0  222.0     18.7  396.90   5.33\n",
              "\n",
              "[5 rows x 13 columns]"
            ]
          },
          "metadata": {
            "tags": []
          },
          "execution_count": 5
        }
      ]
    },
    {
      "cell_type": "markdown",
      "metadata": {
        "id": "94KuAUYObct8",
        "colab_type": "text"
      },
      "source": [
        "We can see that the target value by the name MEDV is missing from the dataframe. It is present in dataset.target.\n",
        "Let's add that to the df."
      ]
    },
    {
      "cell_type": "code",
      "metadata": {
        "id": "Xzyw71rKbct8",
        "colab_type": "code",
        "colab": {}
      },
      "source": [
        "df['MEDV'] = dataset.target"
      ],
      "execution_count": 0,
      "outputs": []
    },
    {
      "cell_type": "markdown",
      "metadata": {
        "id": "JaZo0Cjgbct-",
        "colab_type": "text"
      },
      "source": [
        "Are there any null values in the dataset?"
      ]
    },
    {
      "cell_type": "code",
      "metadata": {
        "id": "pogI_Oxwbct_",
        "colab_type": "code",
        "outputId": "16cb60d1-3fc4-411d-c9fe-3ad21685a2e4",
        "colab": {
          "base_uri": "https://localhost:8080/",
          "height": 272
        }
      },
      "source": [
        "df.isnull().sum()"
      ],
      "execution_count": 0,
      "outputs": [
        {
          "output_type": "execute_result",
          "data": {
            "text/plain": [
              "CRIM       0\n",
              "ZN         0\n",
              "INDUS      0\n",
              "CHAS       0\n",
              "NOX        0\n",
              "RM         0\n",
              "AGE        0\n",
              "DIS        0\n",
              "RAD        0\n",
              "TAX        0\n",
              "PTRATIO    0\n",
              "B          0\n",
              "LSTAT      0\n",
              "MEDV       0\n",
              "dtype: int64"
            ]
          },
          "metadata": {
            "tags": []
          },
          "execution_count": 7
        }
      ]
    },
    {
      "cell_type": "markdown",
      "metadata": {
        "id": "MtEhLGisbcuA",
        "colab_type": "text"
      },
      "source": [
        "Even though there are none, it's a good practice to check."
      ]
    },
    {
      "cell_type": "markdown",
      "metadata": {
        "id": "KJeJAOaXbcuA",
        "colab_type": "text"
      },
      "source": [
        "#### Exploratory Data Analysis"
      ]
    },
    {
      "cell_type": "markdown",
      "metadata": {
        "id": "P_9C21cDbcuA",
        "colab_type": "text"
      },
      "source": [
        "We here use distplot method from the seaborn library, which is another popular graphing library for Python."
      ]
    },
    {
      "cell_type": "code",
      "metadata": {
        "id": "HZReYjg8bcuB",
        "colab_type": "code",
        "outputId": "ff9e7d52-1cff-4278-d5ee-8fdbb892c660",
        "colab": {
          "base_uri": "https://localhost:8080/",
          "height": 557
        }
      },
      "source": [
        "sns.set(rc={'figure.figsize':(12, 9)})\n",
        "sns.distplot(df['MEDV'], bins=30)\n",
        "plt.show()"
      ],
      "execution_count": 0,
      "outputs": [
        {
          "output_type": "display_data",
          "data": {
            "image/png": "[encoded data removed]",
            "text/plain": [
              "<Figure size 864x648 with 1 Axes>"
            ]
          },
          "metadata": {
            "tags": []
          }
        }
      ]
    },
    {
      "cell_type": "markdown",
      "metadata": {
        "id": "wyrv1OqrbcuC",
        "colab_type": "text"
      },
      "source": [
        "We can see that it mostly normally distributed with a few outliers."
      ]
    },
    {
      "cell_type": "markdown",
      "metadata": {
        "id": "pGxbbm4hbcuC",
        "colab_type": "text"
      },
      "source": [
        "## Linear Regression - Assignment"
      ]
    },
    {
      "cell_type": "markdown",
      "metadata": {
        "id": "gEqwpLlpbcuD",
        "colab_type": "text"
      },
      "source": [
        "We'll work with the above dataset for the assignment below. Create a blank notebook for the assignment."
      ]
    },
    {
      "cell_type": "markdown",
      "metadata": {
        "id": "mB8b9CeFbcuD",
        "colab_type": "text"
      },
      "source": [
        "### Question 1"
      ]
    },
    {
      "cell_type": "markdown",
      "metadata": {
        "id": "WsIr8mlrbcuE",
        "colab_type": "text"
      },
      "source": [
        "1. Normalize the data using StandardScaler from sklearn. [0.5]\n",
        "2. Split the multivariate data into training/validation data (20% validation data) and plot train error and validation error as a function of the lambda regularizer. [1]\n",
        "3. What is the best lambda where the best fit occurs? Use this best lambda from here on out. [Note: You may be surprised by the best lambda here - this won't be the case for all datasets.] [1]"
      ]
    },
    {
      "cell_type": "code",
      "metadata": {
        "id": "GZ9dKXt0uRfU",
        "colab_type": "code",
        "colab": {}
      },
      "source": [
        "from sklearn.datasets import load_boston\n",
        "dataset = load_boston()"
      ],
      "execution_count": 0,
      "outputs": []
    },
    {
      "cell_type": "code",
      "metadata": {
        "id": "AAEENQt0KW1O",
        "colab_type": "code",
        "colab": {}
      },
      "source": [
        "from sklearn.model_selection import train_test_split\n",
        "from sklearn.preprocessing import StandardScaler\n",
        "import numpy as np\n",
        "import pandas as pd\n",
        "import matplotlib.pyplot as plt\n",
        "import seaborn as sns\n",
        "import time\n",
        "from sklearn.linear_model import LinearRegression\n",
        "from sklearn.linear_model import Ridge\n",
        "from sklearn.preprocessing import PolynomialFeatures\n",
        "from sklearn.metrics import mean_squared_error"
      ],
      "execution_count": 0,
      "outputs": []
    },
    {
      "cell_type": "code",
      "metadata": {
        "id": "k-02bEPTuYXZ",
        "colab_type": "code",
        "colab": {}
      },
      "source": [
        "df = pd.DataFrame(dataset.data, columns=dataset.feature_names)\n",
        "df['MEDV'] = dataset.target"
      ],
      "execution_count": 0,
      "outputs": []
    },
    {
      "cell_type": "code",
      "metadata": {
        "id": "TEElnbZ1L-i9",
        "colab_type": "code",
        "colab": {}
      },
      "source": [
        "#Our target variable is MEDV\n",
        "X = df.rename(columns = {\"MEDV\": \"bias\"})\n",
        "y = df['MEDV']"
      ],
      "execution_count": 0,
      "outputs": []
    },
    {
      "cell_type": "code",
      "metadata": {
        "id": "kqihUA_2Nqax",
        "colab_type": "code",
        "colab": {}
      },
      "source": [
        "scaler = StandardScaler()\n",
        "#Scale the columns\n",
        "X[X.columns] = scaler.fit_transform(X[X.columns])\n",
        "#We need a bias columns that represents the b term in y= mx + b, so set to 1's post scaling\n",
        "X[\"bias\"] = np.ones(506)"
      ],
      "execution_count": 0,
      "outputs": []
    },
    {
      "cell_type": "code",
      "metadata": {
        "id": "I1v0l7mJKsad",
        "colab_type": "code",
        "colab": {}
      },
      "source": [
        "#Splitting data\n",
        "X_train, X_val, y_train, y_val = train_test_split(X, y, test_size=0.2, random_state=35)"
      ],
      "execution_count": 0,
      "outputs": []
    },
    {
      "cell_type": "markdown",
      "metadata": {
        "colab_type": "text",
        "id": "fowTBJn7RZEw"
      },
      "source": [
        "$J(\\theta) = \\frac{1}{2m}[\\sum_{i=1}^m(h_\\theta (x^{(i)}) - y^{(i)})^2 + \\lambda\\sum_{j=1}^n\\theta^2_j]$"
      ]
    },
    {
      "cell_type": "markdown",
      "metadata": {
        "id": "o0ptDLWJvIb3",
        "colab_type": "text"
      },
      "source": [
        "$w = (X^TX + \\lambda I)^{-1}X^Ty$"
      ]
    },
    {
      "cell_type": "code",
      "metadata": {
        "id": "4J7ZmwdmLAlh",
        "colab_type": "code",
        "outputId": "2bcd1f9e-0967-47fe-fa3b-dd853cafaf02",
        "colab": {
          "base_uri": "https://localhost:8080/",
          "height": 295
        }
      },
      "source": [
        "def lin_reg_mse_plot(X_train, y_train, X_val, y_val):\n",
        "  mse_train = []\n",
        "  mse_val = []\n",
        "  lamb = np.arange(0,101,5)\n",
        "  for lam in lamb:\n",
        "    w = np.dot(np.dot(np.linalg.inv(np.dot(X_train.T, X_train) + np.identity(X_train.shape[1])*lam), X_train.T), y_train)\n",
        "    y_pred_train = np.dot(X_train,w)\n",
        "    mse_train.append(mean_squared_error(y_train, y_pred_train))\n",
        "    y_pred_val = np.dot(X_val, w)\n",
        "    mse_val.append(mean_squared_error(y_val, y_pred_val))\n",
        "  plt.plot(lamb, mse_train, lamb, mse_val)\n",
        "    # print(str(mse_val) + \"break\")\n",
        "    # print(mse_train)\n",
        "  return w\n",
        "  \n",
        "\n",
        "plt.title(\"MSE for Lambda Values, L2 Regularized Lin Reg\")\n",
        "plt.xlabel(\"Lambda Value\")\n",
        "plt.ylabel(\"MSE\")\n",
        "w = lin_reg_mse_plot(X_train, y_train, X_val, y_val)\n",
        "plt.legend(['Val Error', 'Train Error'])\n",
        "plt.show()\n"
      ],
      "execution_count": 54,
      "outputs": [
        {
          "output_type": "display_data",
          "data": {
            "image/png": "[encoded data removed]",
            "text/plain": [
              "<Figure size 432x288 with 1 Axes>"
            ]
          },
          "metadata": {
            "tags": []
          }
        }
      ]
    },
    {
      "cell_type": "markdown",
      "metadata": {
        "id": "YiEKOzwYyaKH",
        "colab_type": "text"
      },
      "source": [
        "The best lambda fit occurs when lambda is equal to 0, which is the case of no regularization, we will use this from here on out."
      ]
    },
    {
      "cell_type": "markdown",
      "metadata": {
        "id": "EQ6KBnbpbcuE",
        "colab_type": "text"
      },
      "source": [
        "### Question 2"
      ]
    },
    {
      "cell_type": "markdown",
      "metadata": {
        "id": "CeznulorbcuF",
        "colab_type": "text"
      },
      "source": [
        "1. Derive the gradient of the $L_2$ regularized objective for Linear Regression, $\\frac{\\partial}{\\partial \\theta_j}J(\\theta)$. Show your work (either by using in-line equations like we do here, or taking a picture of your work, and emdedding it in the notebook). [1]"
      ]
    },
    {
      "cell_type": "markdown",
      "metadata": {
        "id": "w-W6NCYcELK4",
        "colab_type": "text"
      },
      "source": [
        "$J(\\theta) = \\frac{1}{2m}[\\sum_{i=1}^m(h_\\theta (x^{(i)}) - y^{(i)})^2 + \\lambda\\sum_{j=1}^n\\theta^2_j]$"
      ]
    },
    {
      "cell_type": "markdown",
      "metadata": {
        "id": "IsYYXYQ4J2yk",
        "colab_type": "text"
      },
      "source": [
        "# ![Derivation](https://drive.google.com/uc?id=1e5lg2zrCCZuVSlG46rb1QQjff1_b_6Rx)\n",
        "\n",
        "\n",
        "\n"
      ]
    },
    {
      "cell_type": "markdown",
      "metadata": {
        "id": "dqtcegWNbcuF",
        "colab_type": "text"
      },
      "source": [
        "### Question 3"
      ]
    },
    {
      "cell_type": "markdown",
      "metadata": {
        "id": "LcxGaS1mbcuF",
        "colab_type": "text"
      },
      "source": [
        "1. Implement batch gradient descent for linear regression using a fixed learning rate $\\eta$ of 1e-2. [1.5]\n",
        "\n",
        "2. Run the gradient descent for a fixed number of epochs (based on convergence) and verify that the results closely approximate the matrix solution with the same lambda. [1]"
      ]
    },
    {
      "cell_type": "code",
      "metadata": {
        "id": "KzatjkBPw7nJ",
        "colab_type": "code",
        "outputId": "5159deb6-9616-45d8-b77c-bceb260ba04b",
        "colab": {
          "base_uri": "https://localhost:8080/",
          "height": 295
        }
      },
      "source": [
        "#We pick our best performing lambda = 0, which leads to no regulatization\n",
        "lam = 0\n",
        "m = X_train.shape[0]\n",
        "alpha = 1e-2\n",
        "#Convergence acquired at around this stage, a while loop using w_deriv could be implemented with a boundary\n",
        "epochs = list(range(0,750))\n",
        "#Initialize the weights\n",
        "w_p2 = np.ones(14)\n",
        "# Calculate the gradient\n",
        "mse_list = []\n",
        "for ep in epochs:\n",
        "  #This will not be changing for a given iteration\n",
        "  predic_error = np.dot(X_train,w_p2) - y_train\n",
        "  w_deriv = (1/m)*(np.dot(predic_error, X_train) + lam*w_p2)\n",
        "  w_p2 = w_p2 - alpha*w_deriv\n",
        "#calculate the MSE\n",
        "  mse_list.append(mean_squared_error(np.dot(X_train,w_p2), y_train))\n",
        "plt.xlabel(\"Number of Iterations (Epochs)\")\n",
        "plt.ylabel(\"MSE error\")\n",
        "plt.title(\"Error of Batch Gradient Descent based on # of Epochs\")\n",
        "plt.plot(epochs, mse_list)\n",
        "plt.show()\n",
        "\n",
        "\n"
      ],
      "execution_count": 57,
      "outputs": [
        {
          "output_type": "display_data",
          "data": {
            "image/png": "[encoded data removed]",
            "text/plain": [
              "<Figure size 432x288 with 1 Axes>"
            ]
          },
          "metadata": {
            "tags": []
          }
        }
      ]
    },
    {
      "cell_type": "code",
      "metadata": {
        "id": "Ulc71fxc2vhi",
        "colab_type": "code",
        "outputId": "454ba4be-4069-45c6-fd1f-3acc7dd36790",
        "colab": {
          "base_uri": "https://localhost:8080/",
          "height": 255
        }
      },
      "source": [
        "#Compare the weights from part 1 to part 2\n",
        "np.c_[w, w_p2]"
      ],
      "execution_count": 58,
      "outputs": [
        {
          "output_type": "execute_result",
          "data": {
            "text/plain": [
              "array([[-0.61030669, -0.81582433],\n",
              "       [ 0.5765574 ,  0.65488435],\n",
              "       [-0.5060177 , -0.25361514],\n",
              "       [ 0.79373187,  0.83314752],\n",
              "       [-0.72827994, -1.05082142],\n",
              "       [ 2.89683864,  3.14586761],\n",
              "       [-0.1332381 , -0.07716631],\n",
              "       [-1.42542691, -2.13296341],\n",
              "       [ 0.63424264,  1.17349679],\n",
              "       [-0.55278467, -0.80674007],\n",
              "       [-1.71566819, -1.90123294],\n",
              "       [ 0.62823817,  0.82214017],\n",
              "       [-2.88484534, -3.55311669],\n",
              "       [18.17189745, 22.6489417 ]])"
            ]
          },
          "metadata": {
            "tags": []
          },
          "execution_count": 58
        }
      ]
    },
    {
      "cell_type": "markdown",
      "metadata": {
        "id": "BWWiT_zgbFUF",
        "colab_type": "text"
      },
      "source": [
        "The results are within the 20% boundary as defined by the instructor. After varying the amount of iterations, I saw that the values for gradient descent were fluctuating around the optimal weights (both above and below), which shows that gradient descent is still approaching or sometimes overshooting the optimal weight, and then returning back the other way."
      ]
    },
    {
      "cell_type": "markdown",
      "metadata": {
        "id": "uZWf70gxbcuG",
        "colab_type": "text"
      },
      "source": [
        "### Question 4"
      ]
    },
    {
      "cell_type": "markdown",
      "metadata": {
        "id": "VE0M8T1zbcuG",
        "colab_type": "text"
      },
      "source": [
        "1. Plot training error performance vs. number of epochs as a function of learning rate $\\eta$ for a range of values {1e-6, 1e-5, 1e-4, 1e-3, 1e-2, 1e-1} with each $\\eta$ being a different line. [1]\n",
        "\n",
        "For very low $\\eta$, gradient descent should be slow to converge.  For very high $\\eta$, the error might be very unstable (i.e., not decreasing on every epoch)."
      ]
    },
    {
      "cell_type": "code",
      "metadata": {
        "id": "hJoiJ3DlXvf5",
        "colab_type": "code",
        "outputId": "cc5fae5b-e206-4289-def1-7d4f2c862826",
        "colab": {
          "base_uri": "https://localhost:8080/",
          "height": 295
        }
      },
      "source": [
        "#We pick our best performing lambda = 0, which leads to no regulatization\n",
        "lam = 0\n",
        "m = X_train.shape[0]\n",
        "alpha_list = [1e-6, 1e-5, 1e-4, 1e-3, 1e-2, 1e-1]\n",
        "#Set epochs to 1000\n",
        "epochs = list(range(0,1000))\n",
        "# Calculate the gradient\n",
        "for alpha in alpha_list:\n",
        "  mse_list = []\n",
        "  #Initialize + reset the weights after changing alpha\n",
        "  w_p3 = np.ones(14)\n",
        "  for ep in epochs:\n",
        "    #This will not be changing for a given iteration\n",
        "    predic_error = np.dot(X_train,w_p3) - y_train\n",
        "    w_deriv = (1/m)*(np.dot(predic_error, X_train) + lam*w_p3)\n",
        "    w_p3 = w_p3 - alpha*w_deriv\n",
        "  #calculate the MSE\n",
        "    mse_list.append(mean_squared_error(np.dot(X_train,w_p3), y_train))\n",
        "  plt.xlabel(\"Number of Iterations (Epochs)\")\n",
        "  plt.ylabel(\"MSE error\")\n",
        "  plt.title(\"Error of Batch Gradient Descent based on # of Epochs\")\n",
        "  plt.legend(alpha_list)\n",
        "  plt.plot(epochs, mse_list)"
      ],
      "execution_count": 59,
      "outputs": [
        {
          "output_type": "display_data",
          "data": {
            "image/png": "[encoded data removed]",
            "text/plain": [
              "<Figure size 432x288 with 1 Axes>"
            ]
          },
          "metadata": {
            "tags": []
          }
        }
      ]
    },
    {
      "cell_type": "markdown",
      "metadata": {
        "id": "z8c_OMjwfLSR",
        "colab_type": "text"
      },
      "source": [
        "We see that the larger learning rates are converging quickly whereas the extremely low learning rates are unable to move toward the minimum with this initial seed even after 1000 iterations."
      ]
    },
    {
      "cell_type": "markdown",
      "metadata": {
        "id": "CXQYiq-wbcuG",
        "colab_type": "text"
      },
      "source": [
        "### Question 5"
      ]
    },
    {
      "cell_type": "markdown",
      "metadata": {
        "id": "lbqZlUh6bcuH",
        "colab_type": "text"
      },
      "source": [
        "Implement a mini-batch version with a batch_size constant B.  When B=1, it is stochastic gradient descent.  When B=#train data points, it is full-batch.  Anywhere in between is mini-batch.  \n",
        "\n",
        "1. Choose B=1, B=16, B=128, B=256, and B=#data points and plot training error as a function of \"# of gradient updates\" and also separately as a function of \"wall-clock time\" for each value of B. [2]\n",
        "\n",
        "2. All lines should be on the same plot. Which B leads to fastest convergence in terms of #gradient updates and in terms of \"wall-clock time\"? [1]"
      ]
    },
    {
      "cell_type": "code",
      "metadata": {
        "id": "A_yqCd6MXorc",
        "colab_type": "code",
        "colab": {}
      },
      "source": [
        "def batchGradientDescent(X, y, w, bs):\n",
        "  import time\n",
        "  lr = 0.01\n",
        "  iterations = 20\n",
        "  lam = 0\n",
        "\n",
        "  # m is the nunmber of data points\n",
        "  m, n = X.shape\n",
        "  # these are used to stored the cost and time\n",
        "  costHistory = []\n",
        "  timeHistory = []\n",
        "  #Omit one sample to allow loop to run for full batch\n",
        "  if bs == 404:\n",
        "    bs -= 1\n",
        "  #store the current time\n",
        "  start = time.clock()\n",
        "\n",
        "  for i in range(iterations):\n",
        "\n",
        "    # #store the current time\n",
        "    # start = time.clock()\n",
        "\n",
        "    #Randomize X_train and y _train, frac=1 randomizes the entire dataframe\n",
        "    X_new = X.sample(frac=1)\n",
        "    #We need to reindex y_train with the new indices in x_new\n",
        "    y_new = y.reindex(X_new.index)\n",
        "\n",
        "    j_old = 0\n",
        "    for j in range(bs, m, bs):\n",
        "      X_curr = X_new.iloc[j_old:j]\n",
        "      y_curr = y_new.iloc[j_old:j]\n",
        "\n",
        "    \n",
        "\n",
        "      predic_error = np.dot(X_curr,w) - y_curr\n",
        "      \n",
        "      w_deriv = (1/bs)*(np.dot(predic_error, X_curr) + lam*w)\n",
        "      w = w - lr*w_deriv\n",
        "\n",
        "      j_old = j \n",
        "      y_pred = np.dot(X_new, w)\n",
        "      costHistory.append(mean_squared_error(y_pred, y_new))\n",
        "      timeHistory.append(time.clock() - start)\n",
        "      #This helps us manage the range of the df we are using\n",
        "  \n",
        "\n",
        "  \n",
        "  plt.plot(np.arange(len(costHistory[:600])), costHistory[:600])\n",
        "  return w, costHistory, timeHistory"
      ],
      "execution_count": 0,
      "outputs": []
    },
    {
      "cell_type": "code",
      "metadata": {
        "id": "643YTS_iCGCJ",
        "colab_type": "code",
        "outputId": "85c3303b-f417-46b7-b392-e1c3133af7e8",
        "colab": {
          "base_uri": "https://localhost:8080/",
          "height": 295
        }
      },
      "source": [
        "bs_list = [1,16,128,256,404]\n",
        "time_list = []\n",
        "cost_list = []\n",
        "for bs in bs_list:\n",
        "  w, cost, time = batchGradientDescent(X_train, y_train, np.ones(14), bs)\n",
        "  time_list.append(time)\n",
        "  cost_list.append(cost)\n",
        "plt.legend(bs_list)\n",
        "plt.title(\"Training Error for Number of Gradient Updates\")\n",
        "plt.xlabel(\"# Gradient Updates\")\n",
        "plt.ylabel(\"Training Error (MSE)\")\n",
        "plt.show()"
      ],
      "execution_count": 34,
      "outputs": [
        {
          "output_type": "display_data",
          "data": {
            "image/png": "[encoded data removed]",
            "text/plain": [
              "<Figure size 432x288 with 1 Axes>"
            ]
          },
          "metadata": {
            "tags": []
          }
        }
      ]
    },
    {
      "cell_type": "code",
      "metadata": {
        "id": "UzCGgCagYr-5",
        "colab_type": "code",
        "outputId": "29d81ed5-20df-4ddf-f251-fefe8e139b45",
        "colab": {
          "base_uri": "https://localhost:8080/",
          "height": 295
        }
      },
      "source": [
        "#Plot for Training error vs. Time taken\n",
        "for i in range(0,len(cost_list)):\n",
        "  plt.plot(time_list[i], cost_list[i])\n",
        "  plt.xlim(left=0, right=0.2)\n",
        "plt.legend(bs_list)\n",
        "plt.title(\"Training Error for Time Elapsed\")\n",
        "plt.xlabel(\"Time Taken (s)\")\n",
        "plt.ylabel(\"Training Error (MSE)\")\n",
        "plt.show()"
      ],
      "execution_count": 35,
      "outputs": [
        {
          "output_type": "display_data",
          "data": {
            "image/png": "[encoded data removed]",
            "text/plain": [
              "<Figure size 432x288 with 1 Axes>"
            ]
          },
          "metadata": {
            "tags": []
          }
        }
      ]
    },
    {
      "cell_type": "markdown",
      "metadata": {
        "id": "FoMqlX2nq7GL",
        "colab_type": "text"
      },
      "source": [
        "The fastest convergence based on wall clock time are with mini batches of size 1 and 16. All the batch sizes perform similarly when it comes to the amount of gradient updates, which shows that for our small mini-batches we are still doing well on a per gradient update basis.\n",
        "\n",
        "Intuitively, I expected batch size 1 to be converging faster since the frequency of weight updates, but likely some aspect of the code was implemented differently which led to these findings."
      ]
    },
    {
      "cell_type": "markdown",
      "metadata": {
        "id": "BUZYiueSbcuH",
        "colab_type": "text"
      },
      "source": [
        "### Question 6"
      ]
    },
    {
      "cell_type": "markdown",
      "metadata": {
        "id": "RWB-1inrbcuH",
        "colab_type": "text"
      },
      "source": [
        "1. Switch to absolute error for loss but still use $L_2$ regularization. Derive the gradient for this case, $\\frac{\\partial}{\\partial \\theta_j}J(\\theta)$. [1.5]\n",
        "\n",
        "\n",
        "2. Tune $\\eta$ and B to obtain good performance (fast convergence to minimum error, but not noisy).  Is it easier to train with squared error or absolute error, why?  Show some plots that help you demonstrate this point and explain. [1]"
      ]
    },
    {
      "cell_type": "markdown",
      "metadata": {
        "id": "F2WqBjTvjnBF",
        "colab_type": "text"
      },
      "source": [
        "![Derivation](https://drive.google.com/uc?id=1e6dUZmbNMvGsma_gPsB__aSn3bWtGBUO)"
      ]
    },
    {
      "cell_type": "code",
      "metadata": {
        "id": "GcuXS-ALyYe2",
        "colab_type": "code",
        "colab": {}
      },
      "source": [
        "def batchGradientDescent(X, y, w, bs):\n",
        "  import time\n",
        "  lr = 0.01\n",
        "  iterations = 100\n",
        "  lam = 0\n",
        "\n",
        "  # m is the nunmber of data points\n",
        "  m, n = X.shape\n",
        "  # these are used to stored the cost and time\n",
        "  costHistory = []\n",
        "  timeHistory = []\n",
        "  #Omit one sample to allow loop to run for full batch\n",
        "  if bs == 404:\n",
        "    bs -= 1\n",
        "  #store the current time\n",
        "  start = time.clock()\n",
        "\n",
        "  for i in range(iterations):\n",
        "\n",
        "    # #store the current time\n",
        "    # start = time.clock()\n",
        "\n",
        "    #Randomize X_train and y _train, frac=1 randomizes the entire dataframe\n",
        "    X_new = X.sample(frac=1)\n",
        "    #We need to reindex y_train with the new indices in x_new\n",
        "    y_new = y.reindex(X_new.index)\n",
        "\n",
        "    j_old = 0\n",
        "    for j in range(bs, m, bs):\n",
        "      X_curr = X_new.iloc[j_old:j]\n",
        "      y_curr = y_new.iloc[j_old:j]\n",
        "\n",
        "    \n",
        "\n",
        "      predic_error = np.dot(X_curr,w) - y_curr\n",
        "      abs_predic_error = abs(predic_error)\n",
        "      abs_val = np.divide(predic_error, abs_predic_error)\n",
        "      \n",
        "      w_deriv = (1/bs)*(np.dot(abs_val, X_curr) + lam*w)\n",
        "      w = w - lr*w_deriv\n",
        "\n",
        "      j_old = j \n",
        "      y_pred = np.dot(X_new, w)\n",
        "      costHistory.append(mean_squared_error(y_pred, y_new))\n",
        "      timeHistory.append(time.clock() - start)\n",
        "      #This helps us manage the range of the df we are using\n",
        "  \n",
        "\n",
        "  \n",
        "  plt.plot(np.arange(len(costHistory[:4000])), costHistory[:4000])\n",
        "  return w, costHistory, timeHistory"
      ],
      "execution_count": 0,
      "outputs": []
    },
    {
      "cell_type": "code",
      "metadata": {
        "id": "AN2CQOmxu4Dh",
        "colab_type": "code",
        "colab": {
          "base_uri": "https://localhost:8080/",
          "height": 295
        },
        "outputId": "9b4b28f9-e184-495e-b63e-6c73729857b6"
      },
      "source": [
        "bs_list = [1,16,128,256,404]\n",
        "time_list = []\n",
        "cost_list = []\n",
        "for bs in bs_list:\n",
        "  w, cost, time = batchGradientDescent(X_train, y_train, np.ones(14), bs)\n",
        "  time_list.append(time)\n",
        "  cost_list.append(cost)\n",
        "plt.legend(bs_list)\n",
        "plt.title(\"Training Error for Number of Gradient Updates\")\n",
        "plt.xlabel(\"# Gradient Updates\")\n",
        "plt.ylabel(\"Training Error (Absolute Error)\")\n",
        "plt.show()"
      ],
      "execution_count": 43,
      "outputs": [
        {
          "output_type": "display_data",
          "data": {
            "image/png": "[encoded data removed]",
            "text/plain": [
              "<Figure size 432x288 with 1 Axes>"
            ]
          },
          "metadata": {
            "tags": []
          }
        }
      ]
    },
    {
      "cell_type": "code",
      "metadata": {
        "id": "CeWYEciEvMVO",
        "colab_type": "code",
        "colab": {
          "base_uri": "https://localhost:8080/",
          "height": 295
        },
        "outputId": "0adeb56c-5b70-4594-c405-7e1eb86a8dfe"
      },
      "source": [
        "#Plot for Training error vs. Time taken\n",
        "for i in range(0,len(cost_list)):\n",
        "  plt.plot(time_list[i], cost_list[i])\n",
        "  plt.xlim(left=0, right=3.5)\n",
        "plt.legend(bs_list)\n",
        "plt.title(\"Training Error for Time Elapsed\")\n",
        "plt.xlabel(\"Time Taken (s)\")\n",
        "plt.ylabel(\"Training Error (Absolute Error)\")\n",
        "plt.show()"
      ],
      "execution_count": 47,
      "outputs": [
        {
          "output_type": "display_data",
          "data": {
            "image/png": "[encoded data removed]",
            "text/plain": [
              "<Figure size 432x288 with 1 Axes>"
            ]
          },
          "metadata": {
            "tags": []
          }
        }
      ]
    },
    {
      "cell_type": "markdown",
      "metadata": {
        "id": "aM63lslswEbs",
        "colab_type": "text"
      },
      "source": [
        "The best number of iterations depends on the batch size that we select. A batch size of 16 converges fairly soon with the number of iterations (100) that we selected. It is easier to train with squared error because it converges significantly faster in terms of time and gradient updates. This is because squared error is impacted more by weights that are way off and then updates these at a higher rate.\n",
        "\n",
        "Once again, it is surprising that a batch size of both 1 and 16 are converging at the same rate (1 should be faster because more frequent updates)."
      ]
    },
    {
      "cell_type": "markdown",
      "metadata": {
        "colab_type": "text",
        "id": "7rKZXBodwA5P"
      },
      "source": [
        "## References"
      ]
    },
    {
      "cell_type": "markdown",
      "metadata": {
        "colab_type": "text",
        "id": "PA-T9S4RwA5P"
      },
      "source": [
        "Linear Regression:\n",
        "1. https://sebastianraschka.com/faq/docs/closed-form-vs-gd.html\n",
        "\n",
        "Gradient Descent (images and equations):\n",
        "1. https://towardsdatascience.com/linear-regression-using-gradient-descent-97a6c8700931\n",
        "2. https://towardsdatascience.com/linear-regression-using-python-b136c91bf0a2\n",
        "\n",
        "Author: Parth Jaggi"
      ]
    }
  ]
}